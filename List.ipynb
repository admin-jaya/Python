{
 "cells": [
  {
   "cell_type": "markdown",
   "id": "dd95a0cb",
   "metadata": {},
   "source": [
    "#### Different Types of Data Structures"
   ]
  },
  {
   "cell_type": "code",
   "execution_count": 4,
   "id": "b055f098",
   "metadata": {},
   "outputs": [],
   "source": [
    "#Strings\n",
    "#List\n",
    "#Set\n",
    "#Dictionary"
   ]
  },
  {
   "cell_type": "markdown",
   "id": "52a9ad7a",
   "metadata": {},
   "source": [
    "#### List"
   ]
  },
  {
   "cell_type": "code",
   "execution_count": 2,
   "id": "3b7f2402",
   "metadata": {},
   "outputs": [
    {
     "name": "stdout",
     "output_type": "stream",
     "text": [
      "python\n"
     ]
    }
   ],
   "source": [
    "# List are mutable (Can change the behaiour) ie, can append, delete,insert and replace in memory space\n",
    "# List is presented with square braces []\n",
    "# List can accept any data type\n",
    "# List has its own methods\n",
    "\n",
    "a = [10,30,23,34,'python','sql']\n",
    "print(a[4])\n"
   ]
  },
  {
   "cell_type": "code",
   "execution_count": 4,
   "id": "c6f49121",
   "metadata": {},
   "outputs": [
    {
     "name": "stdout",
     "output_type": "stream",
     "text": [
      "sql\n"
     ]
    }
   ],
   "source": [
    "print(a[-1])"
   ]
  },
  {
   "cell_type": "code",
   "execution_count": 6,
   "id": "03616f2a",
   "metadata": {},
   "outputs": [
    {
     "name": "stdout",
     "output_type": "stream",
     "text": [
      "t\n"
     ]
    }
   ],
   "source": [
    "print(a[4][2])"
   ]
  },
  {
   "cell_type": "code",
   "execution_count": 13,
   "id": "6cd10290",
   "metadata": {},
   "outputs": [
    {
     "ename": "NameError",
     "evalue": "name 'a' is not defined",
     "output_type": "error",
     "traceback": [
      "\u001b[1;31m---------------------------------------------------------------------------\u001b[0m",
      "\u001b[1;31mNameError\u001b[0m                                 Traceback (most recent call last)",
      "Cell \u001b[1;32mIn[13], line 1\u001b[0m\n\u001b[1;32m----> 1\u001b[0m \u001b[38;5;28mprint\u001b[39m(\u001b[43ma\u001b[49m[::\u001b[38;5;241m-\u001b[39m\u001b[38;5;241m1\u001b[39m])\n",
      "\u001b[1;31mNameError\u001b[0m: name 'a' is not defined"
     ]
    }
   ],
   "source": [
    "print(a[::-1])"
   ]
  },
  {
   "cell_type": "markdown",
   "id": "65430fa4",
   "metadata": {},
   "source": [
    "### List methods"
   ]
  },
  {
   "cell_type": "code",
   "execution_count": 6,
   "id": "180e65f6",
   "metadata": {},
   "outputs": [
    {
     "name": "stdout",
     "output_type": "stream",
     "text": [
      "['gahan', 'gowda', 5, 15, 2018, 'Jaya']\n"
     ]
    }
   ],
   "source": [
    "l = ['gahan','gowda',5,15,2018] # Append\n",
    "l.append(\"Jaya\")\n",
    "print(l)"
   ]
  },
  {
   "cell_type": "code",
   "execution_count": 9,
   "id": "6979cd73",
   "metadata": {},
   "outputs": [
    {
     "name": "stdout",
     "output_type": "stream",
     "text": [
      "['gahan', 'P', 'gowda', 5, 15, 2018]\n"
     ]
    }
   ],
   "source": [
    "l = ['gahan','gowda',5,15,2018] # Insert\n",
    "l.insert(1,'P')\n",
    "print(l)"
   ]
  },
  {
   "cell_type": "code",
   "execution_count": 14,
   "id": "704774d4",
   "metadata": {},
   "outputs": [
    {
     "name": "stdout",
     "output_type": "stream",
     "text": [
      "['gahan', 'P', 'gowdru', 5, 15, 2018]\n"
     ]
    }
   ],
   "source": [
    "l[2] = 'gowdru' #Replace method\n",
    "print(l)"
   ]
  },
  {
   "cell_type": "code",
   "execution_count": 31,
   "id": "fd3c3737",
   "metadata": {},
   "outputs": [
    {
     "name": "stdout",
     "output_type": "stream",
     "text": [
      "['gahan', 15, 2018]\n"
     ]
    }
   ],
   "source": [
    "del l[1] #delete method\n",
    "print(l)"
   ]
  },
  {
   "cell_type": "code",
   "execution_count": 32,
   "id": "85cb6ff6",
   "metadata": {},
   "outputs": [
    {
     "ename": "ValueError",
     "evalue": "5 is not in list",
     "output_type": "error",
     "traceback": [
      "\u001b[1;31m---------------------------------------------------------------------------\u001b[0m",
      "\u001b[1;31mValueError\u001b[0m                                Traceback (most recent call last)",
      "Cell \u001b[1;32mIn[32], line 1\u001b[0m\n\u001b[1;32m----> 1\u001b[0m \u001b[43ml\u001b[49m\u001b[38;5;241;43m.\u001b[39;49m\u001b[43mindex\u001b[49m\u001b[43m(\u001b[49m\u001b[38;5;241;43m5\u001b[39;49m\u001b[43m,\u001b[49m\u001b[38;5;241;43m1\u001b[39;49m\u001b[43m,\u001b[49m\u001b[38;5;241;43m2\u001b[39;49m\u001b[43m)\u001b[49m\n",
      "\u001b[1;31mValueError\u001b[0m: 5 is not in list"
     ]
    }
   ],
   "source": [
    "l.index(5,1,2)\n"
   ]
  },
  {
   "cell_type": "code",
   "execution_count": 37,
   "id": "555a284d",
   "metadata": {},
   "outputs": [
    {
     "data": {
      "text/plain": [
       "3"
      ]
     },
     "execution_count": 37,
     "metadata": {},
     "output_type": "execute_result"
    }
   ],
   "source": [
    "var = [10,20,60,20,100]\n",
    "var.index(20,2,4)   #index"
   ]
  },
  {
   "cell_type": "code",
   "execution_count": 39,
   "id": "764f30f9",
   "metadata": {},
   "outputs": [
    {
     "data": {
      "text/plain": [
       "2"
      ]
     },
     "execution_count": 39,
     "metadata": {},
     "output_type": "execute_result"
    }
   ],
   "source": [
    "var.count(20) #count"
   ]
  },
  {
   "cell_type": "code",
   "execution_count": 41,
   "id": "b6d88518",
   "metadata": {},
   "outputs": [
    {
     "data": {
      "text/plain": [
       "20"
      ]
     },
     "execution_count": 41,
     "metadata": {},
     "output_type": "execute_result"
    }
   ],
   "source": [
    "var.pop(2) #pop"
   ]
  },
  {
   "cell_type": "code",
   "execution_count": 44,
   "id": "38ddc41d",
   "metadata": {},
   "outputs": [
    {
     "name": "stdout",
     "output_type": "stream",
     "text": [
      "[10, 20, 100]\n"
     ]
    }
   ],
   "source": [
    "print(var)"
   ]
  },
  {
   "cell_type": "code",
   "execution_count": 46,
   "id": "2feae5cf",
   "metadata": {},
   "outputs": [
    {
     "ename": "ValueError",
     "evalue": "list.remove(x): x not in list",
     "output_type": "error",
     "traceback": [
      "\u001b[1;31m---------------------------------------------------------------------------\u001b[0m",
      "\u001b[1;31mValueError\u001b[0m                                Traceback (most recent call last)",
      "Cell \u001b[1;32mIn[46], line 1\u001b[0m\n\u001b[1;32m----> 1\u001b[0m \u001b[43mvar\u001b[49m\u001b[38;5;241;43m.\u001b[39;49m\u001b[43mremove\u001b[49m\u001b[43m(\u001b[49m\u001b[38;5;241;43m100\u001b[39;49m\u001b[43m)\u001b[49m\n\u001b[0;32m      2\u001b[0m \u001b[38;5;28mprint\u001b[39m(var)\n",
      "\u001b[1;31mValueError\u001b[0m: list.remove(x): x not in list"
     ]
    }
   ],
   "source": [
    "var.remove(100) #remove\n",
    "print(var)"
   ]
  },
  {
   "cell_type": "code",
   "execution_count": 48,
   "id": "2dbe5aa3",
   "metadata": {},
   "outputs": [
    {
     "name": "stdout",
     "output_type": "stream",
     "text": [
      "[10, 20]\n"
     ]
    }
   ],
   "source": [
    "var.reverse() #reverse\n",
    "print(var)"
   ]
  },
  {
   "cell_type": "code",
   "execution_count": 53,
   "id": "4ce5967f",
   "metadata": {},
   "outputs": [
    {
     "name": "stdout",
     "output_type": "stream",
     "text": [
      "[10, 20, 20, 97, 97, 97]\n"
     ]
    }
   ],
   "source": [
    "var.append(97)\n",
    "print(var)"
   ]
  },
  {
   "cell_type": "code",
   "execution_count": 55,
   "id": "ef92d6b7",
   "metadata": {},
   "outputs": [
    {
     "name": "stdout",
     "output_type": "stream",
     "text": [
      "[10, 20, 20, 97, 97, 97]\n"
     ]
    }
   ],
   "source": [
    "var.sort() #sort in ascending order\n",
    "print(var)"
   ]
  },
  {
   "cell_type": "code",
   "execution_count": 58,
   "id": "244d6c03",
   "metadata": {},
   "outputs": [
    {
     "name": "stdout",
     "output_type": "stream",
     "text": [
      "[97, 97, 97, 20, 20, 10]\n"
     ]
    }
   ],
   "source": [
    "var.sort(reverse=True) #sort in descending order\n",
    "print(var)"
   ]
  },
  {
   "cell_type": "markdown",
   "id": "c9e2b442",
   "metadata": {},
   "source": [
    "### Math operations in strings"
   ]
  },
  {
   "cell_type": "code",
   "execution_count": 3,
   "id": "84e871b7",
   "metadata": {},
   "outputs": [
    {
     "name": "stdout",
     "output_type": "stream",
     "text": [
      "True\n"
     ]
    }
   ],
   "source": [
    "value1 = 'ab'\n",
    "value2 = 'AB'\n",
    "\n",
    "print(value1>value2)\n"
   ]
  },
  {
   "cell_type": "code",
   "execution_count": 1,
   "id": "b04055fb",
   "metadata": {},
   "outputs": [
    {
     "data": {
      "text/plain": [
       "97"
      ]
     },
     "execution_count": 1,
     "metadata": {},
     "output_type": "execute_result"
    }
   ],
   "source": [
    "ord('a')"
   ]
  },
  {
   "cell_type": "code",
   "execution_count": 9,
   "id": "44270303",
   "metadata": {},
   "outputs": [
    {
     "data": {
      "text/plain": [
       "'A'"
      ]
     },
     "execution_count": 9,
     "metadata": {},
     "output_type": "execute_result"
    }
   ],
   "source": [
    "chr(65)"
   ]
  },
  {
   "cell_type": "code",
   "execution_count": 11,
   "id": "2cd2df3b",
   "metadata": {},
   "outputs": [
    {
     "name": "stdout",
     "output_type": "stream",
     "text": [
      "True\n",
      "True\n"
     ]
    }
   ],
   "source": [
    "a = [10,20,30.5,'python']\n",
    "print(10 in a)\n",
    "print(20 in a)"
   ]
  },
  {
   "cell_type": "markdown",
   "id": "63281e2e",
   "metadata": {},
   "source": [
    "#### Spilt function in list"
   ]
  },
  {
   "cell_type": "code",
   "execution_count": 13,
   "id": "d544cf1f",
   "metadata": {},
   "outputs": [
    {
     "name": "stdout",
     "output_type": "stream",
     "text": [
      "['I am doing data science course and I am a data scienctist']\n",
      "I am doing data science course and I am a data scienctist\n"
     ]
    }
   ],
   "source": [
    "# Breaking into pieces\n",
    "\n",
    "a = 'I am doing data science course and I am a data scienctist'\n",
    "b = a.split('.')\n",
    "print(b)\n",
    "c = b[::-1]\n",
    "d = ' '.join(c)\n",
    "print(d)"
   ]
  },
  {
   "cell_type": "code",
   "execution_count": 17,
   "id": "dff4da63",
   "metadata": {},
   "outputs": [
    {
     "name": "stdout",
     "output_type": "stream",
     "text": [
      "['scienctist', 'data', 'a', 'am', 'I', 'and', 'course', 'science', 'data', 'doing', 'am', 'I']\n",
      "scienctist data a am\n"
     ]
    }
   ],
   "source": [
    "a = 'I am doing data science course and I am a data scienctist' \n",
    "val1 = a.split()\n",
    "val2 = val1[::-1]\n",
    "print(val2)\n",
    "val3 = val2[0:4]\n",
    "val4 = ' '.join(val3)\n",
    "\n",
    "print(val4)\n",
    "\n"
   ]
  }
 ],
 "metadata": {
  "kernelspec": {
   "display_name": "Python 3 (ipykernel)",
   "language": "python",
   "name": "python3"
  },
  "language_info": {
   "codemirror_mode": {
    "name": "ipython",
    "version": 3
   },
   "file_extension": ".py",
   "mimetype": "text/x-python",
   "name": "python",
   "nbconvert_exporter": "python",
   "pygments_lexer": "ipython3",
   "version": "3.10.9"
  }
 },
 "nbformat": 4,
 "nbformat_minor": 5
}
