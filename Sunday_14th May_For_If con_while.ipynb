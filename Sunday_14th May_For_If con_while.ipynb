{
 "cells": [
  {
   "cell_type": "markdown",
   "id": "65b47968",
   "metadata": {},
   "source": [
    "## For loop"
   ]
  },
  {
   "cell_type": "code",
   "execution_count": 3,
   "id": "43f389a2",
   "metadata": {},
   "outputs": [
    {
     "name": "stdout",
     "output_type": "stream",
     "text": [
      "Good morning\n",
      "Good morning\n",
      "Good morning\n",
      "Good morning\n",
      "Good morning\n"
     ]
    }
   ],
   "source": [
    "# Controlling the sattements using the for conditions.\n",
    "\n",
    "for i in range(5): # range starting from 0 to 4(n-1)\n",
    "    print(\"Good morning\")"
   ]
  },
  {
   "cell_type": "code",
   "execution_count": 4,
   "id": "e0952b61",
   "metadata": {},
   "outputs": [
    {
     "name": "stdout",
     "output_type": "stream",
     "text": [
      "1\n",
      "2\n",
      "3\n",
      "4\n",
      "5\n"
     ]
    }
   ],
   "source": [
    "for i in range(1,6):\n",
    "    print(i)"
   ]
  },
  {
   "cell_type": "code",
   "execution_count": 9,
   "id": "7fee5151",
   "metadata": {},
   "outputs": [
    {
     "name": "stdout",
     "output_type": "stream",
     "text": [
      "1 1\n",
      "1 2\n",
      "1 3\n",
      "1 4\n",
      "2 1\n",
      "2 2\n",
      "2 3\n",
      "2 4\n",
      "3 1\n",
      "3 2\n",
      "3 3\n",
      "3 4\n",
      "4 1\n",
      "4 2\n",
      "4 3\n",
      "4 4\n",
      "5 1\n",
      "5 2\n",
      "5 3\n",
      "5 4\n"
     ]
    }
   ],
   "source": [
    "# How to use 2 for loop where loop inside a loop\n",
    "\n",
    "for i in range(1,6):\n",
    "    for j in range(1,5):\n",
    "        print(i,j)"
   ]
  },
  {
   "cell_type": "code",
   "execution_count": 15,
   "id": "93e1c57e",
   "metadata": {},
   "outputs": [
    {
     "name": "stdout",
     "output_type": "stream",
     "text": [
      "1 Data scientist\n",
      "1 Data scientist\n",
      "1 Data scientist\n",
      "2 Data scientist\n",
      "2 Data scientist\n",
      "2 Data scientist\n",
      "3 Data scientist\n",
      "3 Data scientist\n",
      "3 Data scientist\n"
     ]
    }
   ],
   "source": [
    "for i in range(1,4):\n",
    "    for j in range(3):\n",
    "        print(i,'Data scientist')"
   ]
  },
  {
   "cell_type": "code",
   "execution_count": 19,
   "id": "20d7891c",
   "metadata": {},
   "outputs": [
    {
     "name": "stdout",
     "output_type": "stream",
     "text": [
      "d\n",
      "a\n",
      "t\n",
      "a\n",
      " \n",
      "s\n",
      "c\n",
      "i\n",
      "e\n",
      "n\n",
      "c\n",
      "e\n"
     ]
    }
   ],
   "source": [
    "# Loop with data structures\n",
    "# Starting the loop with string\n",
    "\n",
    "subject = 'data science'\n",
    "\n",
    "for i in subject:\n",
    "    print(i)"
   ]
  },
  {
   "cell_type": "code",
   "execution_count": 21,
   "id": "0c59d308",
   "metadata": {},
   "outputs": [
    {
     "name": "stdout",
     "output_type": "stream",
     "text": [
      "p D\n",
      "p a\n",
      "p t\n",
      "p a\n",
      "p  \n",
      "p s\n",
      "p c\n",
      "p i\n",
      "p e\n",
      "p n\n",
      "p c\n",
      "p e\n",
      "y D\n",
      "y a\n",
      "y t\n",
      "y a\n",
      "y  \n",
      "y s\n",
      "y c\n",
      "y i\n",
      "y e\n",
      "y n\n",
      "y c\n",
      "y e\n",
      "t D\n",
      "t a\n",
      "t t\n",
      "t a\n",
      "t  \n",
      "t s\n",
      "t c\n",
      "t i\n",
      "t e\n",
      "t n\n",
      "t c\n",
      "t e\n",
      "h D\n",
      "h a\n",
      "h t\n",
      "h a\n",
      "h  \n",
      "h s\n",
      "h c\n",
      "h i\n",
      "h e\n",
      "h n\n",
      "h c\n",
      "h e\n",
      "o D\n",
      "o a\n",
      "o t\n",
      "o a\n",
      "o  \n",
      "o s\n",
      "o c\n",
      "o i\n",
      "o e\n",
      "o n\n",
      "o c\n",
      "o e\n",
      "n D\n",
      "n a\n",
      "n t\n",
      "n a\n",
      "n  \n",
      "n s\n",
      "n c\n",
      "n i\n",
      "n e\n",
      "n n\n",
      "n c\n",
      "n e\n"
     ]
    }
   ],
   "source": [
    "# Another example with the string\n",
    "\n",
    "for i in 'python':\n",
    "    for j in 'Data science':\n",
    "        print(i,j)\n"
   ]
  },
  {
   "cell_type": "code",
   "execution_count": 23,
   "id": "e4726703",
   "metadata": {},
   "outputs": [
    {
     "name": "stdout",
     "output_type": "stream",
     "text": [
      "10\n",
      "20\n",
      "30.4\n",
      "data\n"
     ]
    }
   ],
   "source": [
    "# For loop with list\n",
    "\n",
    "a = [10,20,30.4,'data']\n",
    "\n",
    "for i in a:\n",
    "    print(i)"
   ]
  },
  {
   "cell_type": "code",
   "execution_count": 30,
   "id": "9083f305",
   "metadata": {},
   "outputs": [
    {
     "name": "stdout",
     "output_type": "stream",
     "text": [
      "4\n",
      "30\n",
      "40\n",
      "34.5\n",
      "python\n"
     ]
    }
   ],
   "source": [
    "a = [30,40,34.5,'python']\n",
    "print(len(a))\n",
    "for i in range(len(a)):\n",
    "    print(a[i])"
   ]
  },
  {
   "cell_type": "code",
   "execution_count": 34,
   "id": "d4a06d94",
   "metadata": {},
   "outputs": [
    {
     "name": "stdout",
     "output_type": "stream",
     "text": [
      "mother\n",
      "father\n",
      "1243\n",
      "688\n"
     ]
    }
   ],
   "source": [
    "# For loop with sets\n",
    "\n",
    "a = {'father','mother',1243,688}\n",
    "for i in a:\n",
    "    print(i)"
   ]
  },
  {
   "cell_type": "code",
   "execution_count": 38,
   "id": "b85ab841",
   "metadata": {},
   "outputs": [
    {
     "name": "stdout",
     "output_type": "stream",
     "text": [
      "father\n",
      "mother\n",
      "son\n",
      "husband\n"
     ]
    }
   ],
   "source": [
    "# Loop with dictionary\n",
    "\n",
    "a = {'father':62,'mother':57,'son':5,'husband':30}\n",
    "\n",
    "for i in a.keys():\n",
    "    print(i)\n",
    "    "
   ]
  },
  {
   "cell_type": "code",
   "execution_count": 41,
   "id": "15c4c24a",
   "metadata": {},
   "outputs": [
    {
     "name": "stdout",
     "output_type": "stream",
     "text": [
      "62\n",
      "57\n",
      "5\n",
      "30\n"
     ]
    }
   ],
   "source": [
    "for i in a.values():\n",
    "    print(i)"
   ]
  },
  {
   "cell_type": "code",
   "execution_count": null,
   "id": "06f335a4",
   "metadata": {},
   "outputs": [],
   "source": []
  },
  {
   "cell_type": "code",
   "execution_count": 45,
   "id": "68c04585",
   "metadata": {},
   "outputs": [
    {
     "ename": "KeyError",
     "evalue": "62",
     "output_type": "error",
     "traceback": [
      "\u001b[1;31m---------------------------------------------------------------------------\u001b[0m",
      "\u001b[1;31mKeyError\u001b[0m                                  Traceback (most recent call last)",
      "Cell \u001b[1;32mIn[45], line 4\u001b[0m\n\u001b[0;32m      1\u001b[0m a \u001b[38;5;241m=\u001b[39m {\u001b[38;5;124m'\u001b[39m\u001b[38;5;124mfather\u001b[39m\u001b[38;5;124m'\u001b[39m:\u001b[38;5;241m62\u001b[39m,\u001b[38;5;124m'\u001b[39m\u001b[38;5;124mmother\u001b[39m\u001b[38;5;124m'\u001b[39m:\u001b[38;5;241m57\u001b[39m,\u001b[38;5;124m'\u001b[39m\u001b[38;5;124mson\u001b[39m\u001b[38;5;124m'\u001b[39m:\u001b[38;5;241m5\u001b[39m,\u001b[38;5;124m'\u001b[39m\u001b[38;5;124mhusband\u001b[39m\u001b[38;5;124m'\u001b[39m:\u001b[38;5;241m30\u001b[39m}\n\u001b[0;32m      3\u001b[0m \u001b[38;5;28;01mfor\u001b[39;00m i,j \u001b[38;5;129;01min\u001b[39;00m a\u001b[38;5;241m.\u001b[39mitems():\n\u001b[1;32m----> 4\u001b[0m     \u001b[38;5;28mprint\u001b[39m(\u001b[43ma\u001b[49m\u001b[43m[\u001b[49m\u001b[43mj\u001b[49m\u001b[43m]\u001b[49m)\n",
      "\u001b[1;31mKeyError\u001b[0m: 62"
     ]
    }
   ],
   "source": [
    "a = {'father':62,'mother':57,'son':5,'husband':30}\n",
    "\n",
    "for i,j in a.items():\n",
    "    print(a[j])"
   ]
  },
  {
   "cell_type": "code",
   "execution_count": 47,
   "id": "6af4080d",
   "metadata": {},
   "outputs": [
    {
     "name": "stdout",
     "output_type": "stream",
     "text": [
      "kaveri\n",
      "preetham\n",
      "rithu\n",
      "deepa\n"
     ]
    }
   ],
   "source": [
    "emp = {'kaveri':101,'preetham':203,'rithu':304,'deepa':566}\n",
    "for i in emp.keys():\n",
    "    print(i)"
   ]
  },
  {
   "cell_type": "code",
   "execution_count": 49,
   "id": "877ed089",
   "metadata": {},
   "outputs": [
    {
     "name": "stdout",
     "output_type": "stream",
     "text": [
      "101\n",
      "203\n",
      "304\n",
      "566\n"
     ]
    }
   ],
   "source": [
    "emp = {'kaveri':101,'preetham':203,'rithu':304,'deepa':566}\n",
    "for i in emp.values():\n",
    "    print(i)"
   ]
  },
  {
   "cell_type": "code",
   "execution_count": 53,
   "id": "3bed58dd",
   "metadata": {},
   "outputs": [
    {
     "name": "stdout",
     "output_type": "stream",
     "text": [
      "kaveri\n",
      "preetham\n",
      "rithu\n",
      "deepa\n"
     ]
    }
   ],
   "source": [
    "emp = {'kaveri':101,'preetham':203,'rithu':304,'deepa':566}\n",
    "for i,j in emp.items():\n",
    "    print(i)"
   ]
  },
  {
   "cell_type": "code",
   "execution_count": 56,
   "id": "79a19e82",
   "metadata": {},
   "outputs": [
    {
     "ename": "KeyError",
     "evalue": "'kaveri'",
     "output_type": "error",
     "traceback": [
      "\u001b[1;31m---------------------------------------------------------------------------\u001b[0m",
      "\u001b[1;31mKeyError\u001b[0m                                  Traceback (most recent call last)",
      "Cell \u001b[1;32mIn[56], line 4\u001b[0m\n\u001b[0;32m      1\u001b[0m emp \u001b[38;5;241m=\u001b[39m {\u001b[38;5;124m'\u001b[39m\u001b[38;5;124mkaveri\u001b[39m\u001b[38;5;124m'\u001b[39m:\u001b[38;5;241m101\u001b[39m,\u001b[38;5;124m'\u001b[39m\u001b[38;5;124mpreetham\u001b[39m\u001b[38;5;124m'\u001b[39m:\u001b[38;5;241m203\u001b[39m,\u001b[38;5;124m'\u001b[39m\u001b[38;5;124mrithu\u001b[39m\u001b[38;5;124m'\u001b[39m:\u001b[38;5;241m304\u001b[39m,\u001b[38;5;124m'\u001b[39m\u001b[38;5;124mdeepa\u001b[39m\u001b[38;5;124m'\u001b[39m:\u001b[38;5;241m566\u001b[39m}\n\u001b[0;32m      3\u001b[0m \u001b[38;5;28;01mfor\u001b[39;00m i,j \u001b[38;5;129;01min\u001b[39;00m emp\u001b[38;5;241m.\u001b[39mitems():\n\u001b[1;32m----> 4\u001b[0m     \u001b[38;5;28mprint\u001b[39m(\u001b[43ma\u001b[49m\u001b[43m[\u001b[49m\u001b[43mi\u001b[49m\u001b[43m]\u001b[49m)\n",
      "\u001b[1;31mKeyError\u001b[0m: 'kaveri'"
     ]
    }
   ],
   "source": [
    "emp = {'kaveri':101,'preetham':203,'rithu':304,'deepa':566}\n",
    "\n",
    "for i,j in emp.items():\n",
    "    print(a[i])"
   ]
  },
  {
   "cell_type": "code",
   "execution_count": 57,
   "id": "72a407a7",
   "metadata": {},
   "outputs": [
    {
     "name": "stdout",
     "output_type": "stream",
     "text": [
      "0 D\n",
      "1 a\n",
      "2 t\n",
      "3 a\n"
     ]
    }
   ],
   "source": [
    "a = 'Data'\n",
    "\n",
    "for i,j in enumerate(a): # Enumeration keyword will execute with both index and values\n",
    "    print(i,j)"
   ]
  },
  {
   "cell_type": "markdown",
   "id": "484a0dab",
   "metadata": {},
   "source": [
    "## if condition"
   ]
  },
  {
   "cell_type": "code",
   "execution_count": 2,
   "id": "edd4d7a3",
   "metadata": {},
   "outputs": [
    {
     "name": "stdout",
     "output_type": "stream",
     "text": [
      "20 b is greater\n"
     ]
    }
   ],
   "source": [
    "a = 10\n",
    "b = 20\n",
    "\n",
    "if a > b:\n",
    "    print(a, \"a is greater\")\n",
    "else:\n",
    "    print(b,\"b is greater\")"
   ]
  },
  {
   "cell_type": "code",
   "execution_count": 6,
   "id": "4c504b08",
   "metadata": {},
   "outputs": [
    {
     "name": "stdout",
     "output_type": "stream",
     "text": [
      "2 even\n",
      "4 even\n",
      "6 even\n",
      "8 even\n",
      "10 even\n",
      "12 even\n",
      "14 even\n",
      "16 even\n",
      "18 even\n",
      "20 even\n"
     ]
    }
   ],
   "source": [
    "#Print even number or not\n",
    "\n",
    "for i in range(1,21):\n",
    "    if i % 2 == 0:\n",
    "        print(i,\"even\")\n",
    "    "
   ]
  },
  {
   "cell_type": "code",
   "execution_count": 12,
   "id": "5a6ec311",
   "metadata": {},
   "outputs": [
    {
     "name": "stdout",
     "output_type": "stream",
     "text": [
      "dt scnc\n"
     ]
    }
   ],
   "source": [
    "# Print vowels in datascience\n",
    "\n",
    "a = 'data science'\n",
    "c = ''\n",
    "for i in a:\n",
    "    if i not in 'aeiouAEIOU':\n",
    "        c = c + i\n",
    "print(c)"
   ]
  },
  {
   "cell_type": "code",
   "execution_count": 18,
   "id": "b9475d7c",
   "metadata": {},
   "outputs": [
    {
     "name": "stdout",
     "output_type": "stream",
     "text": [
      "Second class\n"
     ]
    }
   ],
   "source": [
    "# Elif condition\n",
    "\n",
    "marks = 57\n",
    "\n",
    "if marks >= 60:\n",
    "    print(\"First class\")\n",
    "elif marks > 35 and marks < 60:\n",
    "    print(\"Second class\")\n",
    "elif marks == 35:\n",
    "    print(\"pass\")\n",
    "else:\n",
    "    print(\"fail\")\n",
    "    "
   ]
  },
  {
   "cell_type": "code",
   "execution_count": 24,
   "id": "a9377c45",
   "metadata": {},
   "outputs": [
    {
     "name": "stdout",
     "output_type": "stream",
     "text": [
      "1\n",
      "2\n",
      "3\n",
      "4\n",
      "5\n",
      "6\n",
      "7\n",
      "Good night\n"
     ]
    }
   ],
   "source": [
    "# Break statement\n",
    "\n",
    "for i in range(1,12):\n",
    "    print(i)\n",
    "    if i == 7:\n",
    "        break\n",
    "print(\"Good night\")"
   ]
  }
 ],
 "metadata": {
  "kernelspec": {
   "display_name": "Python 3 (ipykernel)",
   "language": "python",
   "name": "python3"
  },
  "language_info": {
   "codemirror_mode": {
    "name": "ipython",
    "version": 3
   },
   "file_extension": ".py",
   "mimetype": "text/x-python",
   "name": "python",
   "nbconvert_exporter": "python",
   "pygments_lexer": "ipython3",
   "version": "3.10.9"
  }
 },
 "nbformat": 4,
 "nbformat_minor": 5
}
