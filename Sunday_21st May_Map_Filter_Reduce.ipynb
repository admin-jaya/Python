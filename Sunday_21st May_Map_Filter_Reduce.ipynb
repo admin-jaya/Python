{
 "cells": [
  {
   "cell_type": "markdown",
   "id": "cf008f5d",
   "metadata": {},
   "source": [
    "## Map Filter and Reduce"
   ]
  },
  {
   "cell_type": "code",
   "execution_count": 3,
   "id": "69739ce4",
   "metadata": {},
   "outputs": [],
   "source": [
    "# All 3 fuctions are same but approach id differnt,\n",
    "# Map syntax = map (function_name,values)\n",
    "\n",
    "def map_func(number):\n",
    "    if number%2 == 0:\n",
    "        return number\n",
    "        "
   ]
  },
  {
   "cell_type": "code",
   "execution_count": 35,
   "id": "19221a3e",
   "metadata": {},
   "outputs": [
    {
     "name": "stdout",
     "output_type": "stream",
     "text": [
      "[10, None, 30, 40, 50, 60]\n"
     ]
    }
   ],
   "source": [
    "a = [10,23,30,40,50,60]\n",
    "sol = map(map_func,a) # It displaya the memmory location\n",
    "print(list(sol))  # list keyword pull out the res"
   ]
  },
  {
   "cell_type": "code",
   "execution_count": 7,
   "id": "60d5bf2c",
   "metadata": {},
   "outputs": [
    {
     "name": "stdout",
     "output_type": "stream",
     "text": [
      "[1, 2, 3, 4, 5, 6, 7, 8, 9, 10, 11, 12, 13, 14, 15, 16, 17, 18, 19, 20]\n"
     ]
    }
   ],
   "source": [
    "# Find the even or odd number using map fuction\n",
    "\n",
    "values = []\n",
    "for i in range(1,21):\n",
    "    values.append(i)\n",
    "print(values)"
   ]
  },
  {
   "cell_type": "code",
   "execution_count": 11,
   "id": "24f2b7cd",
   "metadata": {},
   "outputs": [],
   "source": [
    "def even_odd_num(n):\n",
    "    if n % 2 == 0:\n",
    "        return \"even\"\n",
    "    else:\n",
    "        return \"odd\""
   ]
  },
  {
   "cell_type": "code",
   "execution_count": 14,
   "id": "f615c567",
   "metadata": {},
   "outputs": [
    {
     "name": "stdout",
     "output_type": "stream",
     "text": [
      "['odd', 'even', 'odd', 'even', 'odd', 'even', 'odd', 'even', 'odd', 'even', 'odd', 'even', 'odd', 'even', 'odd', 'even', 'odd', 'even', 'odd', 'even']\n"
     ]
    }
   ],
   "source": [
    "sol = map(even_odd_num,values)\n",
    "print(list(sol))"
   ]
  },
  {
   "cell_type": "code",
   "execution_count": 3,
   "id": "2d55f0e0",
   "metadata": {},
   "outputs": [
    {
     "name": "stdout",
     "output_type": "stream",
     "text": [
      "[False, True, True, True, True]\n"
     ]
    }
   ],
   "source": [
    "#Lambda function\n",
    "\n",
    "a = [10,20,30,40,50]\n",
    "sol = map(lambda x : x > 10, a)\n",
    "print(list(sol))"
   ]
  },
  {
   "cell_type": "code",
   "execution_count": 23,
   "id": "ba0cf474",
   "metadata": {},
   "outputs": [
    {
     "name": "stdout",
     "output_type": "stream",
     "text": [
      "[False, True, True, True, True, True]\n"
     ]
    }
   ],
   "source": [
    "a = [10,20,30,40,50,60]\n",
    "sol = list(map(lambda x: x > 10, a))\n",
    "print(sol)"
   ]
  },
  {
   "cell_type": "markdown",
   "id": "99bee5d2",
   "metadata": {},
   "source": [
    "## Filter"
   ]
  },
  {
   "cell_type": "code",
   "execution_count": 36,
   "id": "3c0dd543",
   "metadata": {},
   "outputs": [],
   "source": [
    "def fil_fun(num):\n",
    "    if num % 2 == 0:\n",
    "        return num"
   ]
  },
  {
   "cell_type": "code",
   "execution_count": 37,
   "id": "d0bd17fc",
   "metadata": {},
   "outputs": [
    {
     "name": "stdout",
     "output_type": "stream",
     "text": [
      "[10, 22, 40, 20]\n"
     ]
    }
   ],
   "source": [
    "b = [10,22,33,25,40,20]\n",
    "sol = filter(fil_fun,b)\n",
    "print(list(sol))"
   ]
  },
  {
   "cell_type": "code",
   "execution_count": 2,
   "id": "6a8abd02",
   "metadata": {},
   "outputs": [
    {
     "name": "stdout",
     "output_type": "stream",
     "text": [
      "[20, 30, 40, 50]\n"
     ]
    }
   ],
   "source": [
    "# Lambda with filter\n",
    "\n",
    "a = [10,20,30,40,50]\n",
    "sol = list(filter(lambda x : x > 10, a))\n",
    "print(sol)"
   ]
  },
  {
   "cell_type": "code",
   "execution_count": 3,
   "id": "7b6059f9",
   "metadata": {},
   "outputs": [
    {
     "name": "stdout",
     "output_type": "stream",
     "text": [
      "[10, 22, 40, 33, 35, 36]\n"
     ]
    }
   ],
   "source": [
    " a = [10,22,40,33,35,36]\n",
    "sol = filter(lambda x : x + 20, a) # Filter function will not work for math operations like + , -,//,%\n",
    "print(list(sol))"
   ]
  },
  {
   "cell_type": "markdown",
   "id": "70d8d17b",
   "metadata": {},
   "source": [
    "## Reduce"
   ]
  },
  {
   "cell_type": "code",
   "execution_count": 5,
   "id": "e8082be1",
   "metadata": {},
   "outputs": [],
   "source": [
    "from functools import reduce"
   ]
  },
  {
   "cell_type": "code",
   "execution_count": 8,
   "id": "c6f21f82",
   "metadata": {},
   "outputs": [
    {
     "name": "stdout",
     "output_type": "stream",
     "text": [
      "432\n"
     ]
    }
   ],
   "source": [
    "a = [12,34,56,77,34,22,32,23,43,44,55]\n",
    "sol = reduce(lambda x,y : x + y, a)\n",
    "print(sol)"
   ]
  },
  {
   "cell_type": "code",
   "execution_count": 25,
   "id": "b9a53137",
   "metadata": {},
   "outputs": [],
   "source": [
    "def reduce_func(num):\n",
    "    if num % 2 == 0:\n",
    "        return num"
   ]
  },
  {
   "cell_type": "code",
   "execution_count": 26,
   "id": "ca084379",
   "metadata": {},
   "outputs": [
    {
     "ename": "TypeError",
     "evalue": "reduce_func() takes 1 positional argument but 2 were given",
     "output_type": "error",
     "traceback": [
      "\u001b[1;31m---------------------------------------------------------------------------\u001b[0m",
      "\u001b[1;31mTypeError\u001b[0m                                 Traceback (most recent call last)",
      "Cell \u001b[1;32mIn[26], line 2\u001b[0m\n\u001b[0;32m      1\u001b[0m a \u001b[38;5;241m=\u001b[39m [\u001b[38;5;241m12\u001b[39m,\u001b[38;5;241m34\u001b[39m,\u001b[38;5;241m56\u001b[39m,\u001b[38;5;241m77\u001b[39m,\u001b[38;5;241m34\u001b[39m,\u001b[38;5;241m22\u001b[39m,\u001b[38;5;241m32\u001b[39m,\u001b[38;5;241m23\u001b[39m,\u001b[38;5;241m43\u001b[39m,\u001b[38;5;241m44\u001b[39m,\u001b[38;5;241m55\u001b[39m]\n\u001b[1;32m----> 2\u001b[0m sol \u001b[38;5;241m=\u001b[39m \u001b[43mreduce\u001b[49m\u001b[43m(\u001b[49m\u001b[43mreduce_func\u001b[49m\u001b[43m \u001b[49m\u001b[43m,\u001b[49m\u001b[43m \u001b[49m\u001b[43ma\u001b[49m\u001b[43m)\u001b[49m\n\u001b[0;32m      3\u001b[0m \u001b[38;5;28mprint\u001b[39m(sol)\n",
      "\u001b[1;31mTypeError\u001b[0m: reduce_func() takes 1 positional argument but 2 were given"
     ]
    }
   ],
   "source": [
    "a = [12,34,56,77,34,22,32,23,43,44,55]\n",
    "sol = reduce(reduce_func , a)\n",
    "print(sol)"
   ]
  },
  {
   "cell_type": "code",
   "execution_count": 1,
   "id": "a9bb7c8b",
   "metadata": {},
   "outputs": [
    {
     "name": "stdout",
     "output_type": "stream",
     "text": [
      "[44, 66, 87, 44, 32, 42, 33, 53, 54, 65]\n"
     ]
    }
   ],
   "source": [
    "# Filter with map\n",
    "\n",
    "a = [12,34,56,77,34,22,32,23,43,44,55]\n",
    "sol = map(lambda x : x + 10, filter(lambda x : x > 20 , a))\n",
    "print(list(sol))"
   ]
  },
  {
   "cell_type": "code",
   "execution_count": 3,
   "id": "65151f47",
   "metadata": {},
   "outputs": [
    {
     "name": "stdout",
     "output_type": "stream",
     "text": [
      "[22, 44, 66, 87, 44, 32, 42, 33, 53, 54, 65]\n"
     ]
    }
   ],
   "source": [
    " # Map with filter\n",
    "    \n",
    "a = [12,34,56,77,34,22,32,23,43,44,55]\n",
    "sol = filter(lambda x : x > 20,map(lambda x : x + 10,a))\n",
    "print(list(sol))"
   ]
  },
  {
   "cell_type": "code",
   "execution_count": 8,
   "id": "5c1c58c3",
   "metadata": {},
   "outputs": [
    {
     "ename": "TypeError",
     "evalue": "'int' object is not iterable",
     "output_type": "error",
     "traceback": [
      "\u001b[1;31m---------------------------------------------------------------------------\u001b[0m",
      "\u001b[1;31mTypeError\u001b[0m                                 Traceback (most recent call last)",
      "Cell \u001b[1;32mIn[8], line 5\u001b[0m\n\u001b[0;32m      3\u001b[0m a \u001b[38;5;241m=\u001b[39m [\u001b[38;5;241m10\u001b[39m,\u001b[38;5;241m11\u001b[39m,\u001b[38;5;241m12\u001b[39m,\u001b[38;5;241m13\u001b[39m]\n\u001b[0;32m      4\u001b[0m sol \u001b[38;5;241m=\u001b[39m reduce(\u001b[38;5;28;01mlambda\u001b[39;00m x , y : x \u001b[38;5;241m+\u001b[39m y , \u001b[38;5;28mfilter\u001b[39m(\u001b[38;5;28;01mlambda\u001b[39;00m x : x \u001b[38;5;241m>\u001b[39m \u001b[38;5;241m20\u001b[39m , \u001b[38;5;28mmap\u001b[39m(\u001b[38;5;28;01mlambda\u001b[39;00m x : x \u001b[38;5;241m+\u001b[39m \u001b[38;5;241m10\u001b[39m , a)))\n\u001b[1;32m----> 5\u001b[0m \u001b[38;5;28mprint\u001b[39m(\u001b[38;5;28;43mlist\u001b[39;49m\u001b[43m(\u001b[49m\u001b[43msol\u001b[49m\u001b[43m)\u001b[49m)\n",
      "\u001b[1;31mTypeError\u001b[0m: 'int' object is not iterable"
     ]
    }
   ],
   "source": [
    "# Reduce with map and filter\n",
    "\n",
    "a = [10,11,12,13]\n",
    "sol = reduce(lambda x , y : x + y , filter(lambda x : x > 20 , map(lambda x : x + 10 , a)))\n",
    "print(list(sol))"
   ]
  },
  {
   "cell_type": "code",
   "execution_count": 11,
   "id": "2fca2f5e",
   "metadata": {},
   "outputs": [
    {
     "name": "stdout",
     "output_type": "stream",
     "text": [
      "66\n"
     ]
    }
   ],
   "source": [
    "a = [10,11,12,13]\n",
    "sol = reduce(lambda x , y : x + y , filter(lambda x : x > 20 , map(lambda x : x + 10 , a)))\n",
    "print(sol)"
   ]
  },
  {
   "cell_type": "code",
   "execution_count": 15,
   "id": "53a1c089",
   "metadata": {},
   "outputs": [
    {
     "name": "stdout",
     "output_type": "stream",
     "text": [
      "1 good mroning\n",
      "2 good mroning\n",
      "3 good mroning\n",
      "4 good mroning\n",
      "5 good mroning\n",
      "6 good mroning\n",
      "7 good mroning\n",
      "8 good mroning\n",
      "9 good mroning\n",
      "10 good mroning\n",
      "11 good mroning\n",
      "12 good mroning\n",
      "13 good mroning\n",
      "14 good mroning\n",
      "15 good mroning\n",
      "16 good mroning\n",
      "17 good mroning\n",
      "18 good mroning\n",
      "19 good mroning\n",
      "20 good mroning\n"
     ]
    }
   ],
   "source": [
    "for i in range(1,21):\n",
    "    print(i,\"good mroning\")"
   ]
  },
  {
   "cell_type": "markdown",
   "id": "90f979b8",
   "metadata": {},
   "source": [
    "## Comprehension Techniques\n",
    "\n",
    "#### - `List comprehension`\n",
    "#### - `Dictionary comprehension`"
   ]
  },
  {
   "cell_type": "code",
   "execution_count": 16,
   "id": "4f19485b",
   "metadata": {},
   "outputs": [],
   "source": [
    "# Its is use to reduce the lines of code\n",
    "# we work only with list and dictionary"
   ]
  },
  {
   "cell_type": "markdown",
   "id": "793923e9",
   "metadata": {},
   "source": [
    "## List comprehension"
   ]
  },
  {
   "cell_type": "code",
   "execution_count": 19,
   "id": "38bacfff",
   "metadata": {},
   "outputs": [
    {
     "name": "stdout",
     "output_type": "stream",
     "text": [
      "good morning good morning good morning good morning good morning good morning good morning good morning good morning good morning good morning good morning good morning good morning good morning good morning good morning good morning good morning good morning "
     ]
    }
   ],
   "source": [
    "for i in range(1,21):\n",
    "    print(\"good morning\",end = ' ') # normal execution"
   ]
  },
  {
   "cell_type": "code",
   "execution_count": 22,
   "id": "0c4cc1e4",
   "metadata": {},
   "outputs": [
    {
     "name": "stdout",
     "output_type": "stream",
     "text": [
      "[1, 2, 3, 4, 5, 6, 7, 8, 9, 10, 11, 12, 13, 14, 15, 16, 17, 18, 19, 20]\n"
     ]
    }
   ],
   "source": [
    "# The same method used by list comprehension\n",
    "\n",
    "sol = [i for i in range(1,21)]\n",
    "print(sol)"
   ]
  },
  {
   "cell_type": "code",
   "execution_count": 27,
   "id": "b0ebe6a5",
   "metadata": {},
   "outputs": [
    {
     "name": "stdout",
     "output_type": "stream",
     "text": [
      "[1, 2, 3, 4, 5, 6, 7, 8, 9, 10, 11, 12, 13, 14, 15, 16, 17, 18, 19, 20]\n"
     ]
    }
   ],
   "source": [
    "# writing in one line code syntax [result for]\n",
    "\n",
    "print([i for i in range(1,21)])"
   ]
  },
  {
   "cell_type": "code",
   "execution_count": 31,
   "id": "18777617",
   "metadata": {},
   "outputs": [
    {
     "name": "stdout",
     "output_type": "stream",
     "text": [
      "52 54 56 58 60 "
     ]
    }
   ],
   "source": [
    "# Pure python code\n",
    "\n",
    "for i in range(51,61):\n",
    "    if i % 2 == 0:\n",
    "        print(i, end = ' ')"
   ]
  },
  {
   "cell_type": "code",
   "execution_count": 34,
   "id": "7ea26ac0",
   "metadata": {},
   "outputs": [
    {
     "name": "stdout",
     "output_type": "stream",
     "text": [
      "[52, 54, 56, 58, 60]\n"
     ]
    }
   ],
   "source": [
    "# if your using for and if the sytax will be [result forloop ifcondition]\n",
    "\n",
    "print([i for i in range(51,61) if i % 2 == 0]) "
   ]
  },
  {
   "cell_type": "code",
   "execution_count": 36,
   "id": "d2227cfc",
   "metadata": {},
   "outputs": [
    {
     "name": "stdout",
     "output_type": "stream",
     "text": [
      "51 odd 52 even 53 odd 54 even 55 odd 56 even 57 odd 58 even 59 odd 60 even "
     ]
    }
   ],
   "source": [
    "# Print even or odd \n",
    "\n",
    "for i in range(51,61):\n",
    "    if i % 2 == 0:\n",
    "        print(i,\"even\",end = ' ')\n",
    "    else:\n",
    "        print(i,\"odd\",end = ' ')"
   ]
  },
  {
   "cell_type": "code",
   "execution_count": 43,
   "id": "67789dd6",
   "metadata": {},
   "outputs": [
    {
     "name": "stdout",
     "output_type": "stream",
     "text": [
      "['odd 51', 'even 52', 'odd 53', 'even 54', 'odd 55', 'even 56', 'odd 57', 'even 58', 'odd 59', 'even 60']\n"
     ]
    }
   ],
   "source": [
    "# if your using if else with for syntax will be [result ifcondition else forloop]\n",
    "\n",
    "sol = ['even '+ str(i) if i % 2 == 0 else 'odd ' + str(i) for i in range(51,61)]\n",
    "print(sol)"
   ]
  },
  {
   "cell_type": "markdown",
   "id": "374f34f3",
   "metadata": {},
   "source": [
    "## Dictionary comprehension"
   ]
  },
  {
   "cell_type": "code",
   "execution_count": 5,
   "id": "8ce1bd29",
   "metadata": {},
   "outputs": [
    {
     "name": "stdout",
     "output_type": "stream",
     "text": [
      "{'apple': 330, 'orange': 180, 'kiwi': 270}\n"
     ]
    }
   ],
   "source": [
    "# Same sytax like list comprehension\n",
    "# Normal python code\n",
    "\n",
    "fruits = {'apple':300,'orange':150,'kiwi':240}\n",
    "for i in fruits:\n",
    "    fruits[i] = fruits[i] + 30\n",
    "print(fruits)"
   ]
  },
  {
   "cell_type": "code",
   "execution_count": 9,
   "id": "83052308",
   "metadata": {},
   "outputs": [
    {
     "name": "stdout",
     "output_type": "stream",
     "text": [
      "{'apple': 280, 'orange': 130, 'kiwi': 210}\n"
     ]
    }
   ],
   "source": [
    "# Using comprehension\n",
    "\n",
    "fruits = {'apple':250 ,'orange' : 100, 'kiwi' : 180}\n",
    "sol = {i:j+30 for i,j in fruits.items()}\n",
    "print(sol)"
   ]
  },
  {
   "cell_type": "code",
   "execution_count": 1,
   "id": "b9a1db66",
   "metadata": {},
   "outputs": [
    {
     "name": "stdout",
     "output_type": "stream",
     "text": [
      "{'apple': 'pass', 'orange': 'fail', 'kiwi': 'pass'}\n"
     ]
    }
   ],
   "source": [
    "fruits = {'apple':250 ,'orange' : 100, 'kiwi' : 180}\n",
    "sol = {i: ('pass' if j > 160 else 'fail') for i,j in fruits.items()}\n",
    "print(sol)"
   ]
  },
  {
   "cell_type": "code",
   "execution_count": 3,
   "id": "f629b887",
   "metadata": {},
   "outputs": [],
   "source": [
    "from function_power import math_operations"
   ]
  },
  {
   "cell_type": "code",
   "execution_count": 1,
   "id": "f0aad340",
   "metadata": {},
   "outputs": [
    {
     "ename": "NameError",
     "evalue": "name 'math_operations' is not defined",
     "output_type": "error",
     "traceback": [
      "\u001b[1;31m---------------------------------------------------------------------------\u001b[0m",
      "\u001b[1;31mNameError\u001b[0m                                 Traceback (most recent call last)",
      "Cell \u001b[1;32mIn[1], line 1\u001b[0m\n\u001b[1;32m----> 1\u001b[0m \u001b[43mmath_operations\u001b[49m([\u001b[38;5;241m23\u001b[39m,\u001b[38;5;241m10\u001b[39m,\u001b[38;5;241m14\u001b[39m,\u001b[38;5;241m67\u001b[39m,\u001b[38;5;241m90\u001b[39m])\n",
      "\u001b[1;31mNameError\u001b[0m: name 'math_operations' is not defined"
     ]
    }
   ],
   "source": [
    "math_operations([23,10,14,67,90])"
   ]
  },
  {
   "cell_type": "code",
   "execution_count": 6,
   "id": "0acdef69",
   "metadata": {},
   "outputs": [
    {
     "name": "stdout",
     "output_type": "stream",
     "text": [
      "2 * 1 = 2\n",
      "2 * 2 = 4\n",
      "2 * 3 = 6\n",
      "2 * 4 = 8\n",
      "2 * 5 = 10\n",
      "2 * 6 = 12\n",
      "2 * 7 = 14\n",
      "2 * 8 = 16\n",
      "2 * 9 = 18\n",
      "2 * 10 = 20\n"
     ]
    }
   ],
   "source": [
    "# 7 tables \n",
    "\n",
    "n = 2\n",
    "for i in range(1,11):\n",
    "    print(n , '*' , i, '=',n*i)"
   ]
  },
  {
   "cell_type": "code",
   "execution_count": 14,
   "id": "16dca5b4",
   "metadata": {},
   "outputs": [
    {
     "name": "stdout",
     "output_type": "stream",
     "text": [
      "Eneter the number: 25\n",
      "25 * 1 = 25\n",
      "25 * 2 = 50\n",
      "25 * 3 = 75\n",
      "25 * 4 = 100\n",
      "25 * 5 = 125\n",
      "25 * 6 = 150\n",
      "25 * 7 = 175\n",
      "25 * 8 = 200\n",
      "25 * 9 = 225\n",
      "25 * 10 = 250\n",
      "<function <lambda> at 0x000001C014B41BD0>\n"
     ]
    }
   ],
   "source": [
    "n = int(input(\"Eneter the number: \"))\n",
    "c = lambda x , y : n * i\n",
    "for i in range(1,11):\n",
    "    print(n , '*' , i, '=',c(n ,i ))\n",
    "print(c)"
   ]
  },
  {
   "cell_type": "code",
   "execution_count": null,
   "id": "49b719ae",
   "metadata": {},
   "outputs": [],
   "source": []
  }
 ],
 "metadata": {
  "kernelspec": {
   "display_name": "Python 3 (ipykernel)",
   "language": "python",
   "name": "python3"
  },
  "language_info": {
   "codemirror_mode": {
    "name": "ipython",
    "version": 3
   },
   "file_extension": ".py",
   "mimetype": "text/x-python",
   "name": "python",
   "nbconvert_exporter": "python",
   "pygments_lexer": "ipython3",
   "version": "3.10.9"
  }
 },
 "nbformat": 4,
 "nbformat_minor": 5
}
