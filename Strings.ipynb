{
 "cells": [
  {
   "cell_type": "markdown",
   "id": "27a99bc1",
   "metadata": {},
   "source": [
    "#### Different Types of Data Structures"
   ]
  },
  {
   "cell_type": "code",
   "execution_count": 4,
   "id": "18735158",
   "metadata": {},
   "outputs": [],
   "source": [
    "#Strings\n",
    "#List\n",
    "#Set\n",
    "#Dictionary"
   ]
  },
  {
   "cell_type": "markdown",
   "id": "e826995e",
   "metadata": {},
   "source": [
    "#### Strings"
   ]
  },
  {
   "cell_type": "code",
   "execution_count": 2,
   "id": "3d3da27f",
   "metadata": {},
   "outputs": [
    {
     "name": "stdout",
     "output_type": "stream",
     "text": [
      "e\n"
     ]
    }
   ],
   "source": [
    "# Strings are immutable (Cannot change the behaiour) ie, cannot add, delete or insert in between in memory space\n",
    "\n",
    "a = 'data science'\n",
    "print(a[8])"
   ]
  },
  {
   "cell_type": "code",
   "execution_count": 3,
   "id": "2b1dc0d2",
   "metadata": {},
   "outputs": [
    {
     "name": "stdout",
     "output_type": "stream",
     "text": [
      "i\n"
     ]
    }
   ],
   "source": [
    "print(a[7])"
   ]
  },
  {
   "cell_type": "code",
   "execution_count": 5,
   "id": "36e49c9b",
   "metadata": {},
   "outputs": [
    {
     "name": "stdout",
     "output_type": "stream",
     "text": [
      "i\n"
     ]
    }
   ],
   "source": [
    "#Backward direction\n",
    "\n",
    "a = 'I am a data scientist'\n",
    "print(a[-3])"
   ]
  },
  {
   "cell_type": "markdown",
   "id": "daee379f",
   "metadata": {},
   "source": [
    "### Slicing Operations with index concept\n",
    "\n"
   ]
  },
  {
   "cell_type": "code",
   "execution_count": 7,
   "id": "7ab9164d",
   "metadata": {},
   "outputs": [
    {
     "name": "stdout",
     "output_type": "stream",
     "text": [
      " am a dat\n"
     ]
    }
   ],
   "source": [
    "a = 'I am a data scientist' \n",
    "print(a[1:10])   # it will calculate from index 1 to n-1 i.e, till 9th position"
   ]
  },
  {
   "cell_type": "code",
   "execution_count": 10,
   "id": "b7e5f45f",
   "metadata": {},
   "outputs": [
    {
     "name": "stdout",
     "output_type": "stream",
     "text": [
      "ta sc\n"
     ]
    }
   ],
   "source": [
    "print(a[9:14])"
   ]
  },
  {
   "cell_type": "markdown",
   "id": "642ff306",
   "metadata": {},
   "source": [
    "## Python slicing and SKipping concept\n",
    "\n"
   ]
  },
  {
   "cell_type": "code",
   "execution_count": 13,
   "id": "c8d6af97",
   "metadata": {},
   "outputs": [
    {
     "name": "stdout",
     "output_type": "stream",
     "text": [
      "a ic\n"
     ]
    }
   ],
   "source": [
    "a = 'data science'\n",
    "print(a[1:12:3])"
   ]
  },
  {
   "cell_type": "code",
   "execution_count": 15,
   "id": "ce67234e",
   "metadata": {},
   "outputs": [
    {
     "name": "stdout",
     "output_type": "stream",
     "text": [
      "data science\n"
     ]
    }
   ],
   "source": [
    "print(a[:]) # Prints whole string value"
   ]
  },
  {
   "cell_type": "code",
   "execution_count": 17,
   "id": "d5fa0567",
   "metadata": {},
   "outputs": [
    {
     "name": "stdout",
     "output_type": "stream",
     "text": [
      "ata science\n"
     ]
    }
   ],
   "source": [
    "print(a[1:])"
   ]
  },
  {
   "cell_type": "code",
   "execution_count": 3,
   "id": "b0cbb73c",
   "metadata": {},
   "outputs": [
    {
     "name": "stdout",
     "output_type": "stream",
     "text": [
      "adwoG nahaG\n"
     ]
    }
   ],
   "source": [
    "a = 'Gahan Gowda'\n",
    "print(a[::-1]) # Prints the string value in reverse order"
   ]
  },
  {
   "cell_type": "markdown",
   "id": "046983dd",
   "metadata": {},
   "source": [
    "#### Strings Method"
   ]
  },
  {
   "cell_type": "code",
   "execution_count": 6,
   "id": "ba6764ad",
   "metadata": {},
   "outputs": [
    {
     "data": {
      "text/plain": [
       "'Gata scientist'"
      ]
     },
     "execution_count": 6,
     "metadata": {},
     "output_type": "execute_result"
    }
   ],
   "source": [
    "a = 'Data scientist'\n",
    "a.replace('D','G')"
   ]
  },
  {
   "cell_type": "code",
   "execution_count": 8,
   "id": "b917968e",
   "metadata": {},
   "outputs": [
    {
     "data": {
      "text/plain": [
       "'Daga sciengisg'"
      ]
     },
     "execution_count": 8,
     "metadata": {},
     "output_type": "execute_result"
    }
   ],
   "source": [
    "a.replace('t','g',3)"
   ]
  },
  {
   "cell_type": "code",
   "execution_count": 10,
   "id": "30f85540",
   "metadata": {},
   "outputs": [
    {
     "data": {
      "text/plain": [
       "'DATA SCIENTIST'"
      ]
     },
     "execution_count": 10,
     "metadata": {},
     "output_type": "execute_result"
    }
   ],
   "source": [
    "a.upper()"
   ]
  },
  {
   "cell_type": "code",
   "execution_count": 12,
   "id": "65dd3d39",
   "metadata": {},
   "outputs": [
    {
     "data": {
      "text/plain": [
       "'Data scientist'"
      ]
     },
     "execution_count": 12,
     "metadata": {},
     "output_type": "execute_result"
    }
   ],
   "source": [
    "a.capitalize()"
   ]
  },
  {
   "cell_type": "code",
   "execution_count": 18,
   "id": "c5046d31",
   "metadata": {},
   "outputs": [
    {
     "data": {
      "text/plain": [
       "2"
      ]
     },
     "execution_count": 18,
     "metadata": {},
     "output_type": "execute_result"
    }
   ],
   "source": [
    "a.count('a')"
   ]
  },
  {
   "cell_type": "code",
   "execution_count": 20,
   "id": "2bbcc21c",
   "metadata": {},
   "outputs": [
    {
     "name": "stdout",
     "output_type": "stream",
     "text": [
      "True\n"
     ]
    }
   ],
   "source": [
    "print(a.startswith('Data'))"
   ]
  },
  {
   "cell_type": "code",
   "execution_count": 21,
   "id": "4dff8a23",
   "metadata": {},
   "outputs": [
    {
     "data": {
      "text/plain": [
       "True"
      ]
     },
     "execution_count": 21,
     "metadata": {},
     "output_type": "execute_result"
    }
   ],
   "source": [
    "a.endswith('scientist')"
   ]
  }
 ],
 "metadata": {
  "kernelspec": {
   "display_name": "Python 3 (ipykernel)",
   "language": "python",
   "name": "python3"
  },
  "language_info": {
   "codemirror_mode": {
    "name": "ipython",
    "version": 3
   },
   "file_extension": ".py",
   "mimetype": "text/x-python",
   "name": "python",
   "nbconvert_exporter": "python",
   "pygments_lexer": "ipython3",
   "version": "3.10.9"
  }
 },
 "nbformat": 4,
 "nbformat_minor": 5
}
