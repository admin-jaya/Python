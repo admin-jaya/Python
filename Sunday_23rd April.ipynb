{
 "cells": [
  {
   "cell_type": "code",
   "execution_count": null,
   "id": "6bbf0305",
   "metadata": {},
   "outputs": [],
   "source": [
    "I'm jayalakshmi\n",
    "Im a Data scientist"
   ]
  },
  {
   "cell_type": "code",
   "execution_count": null,
   "id": "0ee759bb",
   "metadata": {},
   "outputs": [],
   "source": [
    "print(\"I'm a Data Scientist\")"
   ]
  },
  {
   "cell_type": "code",
   "execution_count": 1,
   "id": "d4ec3c04",
   "metadata": {},
   "outputs": [
    {
     "name": "stdout",
     "output_type": "stream",
     "text": [
      "I'm a Data Scientist\n"
     ]
    }
   ],
   "source": [
    "print(\"I'm a Data Scientist\")"
   ]
  },
  {
   "cell_type": "code",
   "execution_count": null,
   "id": "a7f3296f",
   "metadata": {},
   "outputs": [],
   "source": []
  },
  {
   "cell_type": "code",
   "execution_count": null,
   "id": "82f3a79d",
   "metadata": {},
   "outputs": [],
   "source": []
  },
  {
   "cell_type": "code",
   "execution_count": null,
   "id": "a1395e67",
   "metadata": {},
   "outputs": [],
   "source": []
  }
 ],
 "metadata": {
  "kernelspec": {
   "display_name": "Python 3 (ipykernel)",
   "language": "python",
   "name": "python3"
  },
  "language_info": {
   "codemirror_mode": {
    "name": "ipython",
    "version": 3
   },
   "file_extension": ".py",
   "mimetype": "text/x-python",
   "name": "python",
   "nbconvert_exporter": "python",
   "pygments_lexer": "ipython3",
   "version": "3.10.9"
  }
 },
 "nbformat": 4,
 "nbformat_minor": 5
}
