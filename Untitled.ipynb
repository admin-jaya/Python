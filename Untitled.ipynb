{
 "cells": [
  {
   "cell_type": "code",
   "execution_count": 1,
   "id": "15f4634c",
   "metadata": {},
   "outputs": [
    {
     "name": "stdout",
     "output_type": "stream",
     "text": [
      "'aa itt\n"
     ]
    }
   ],
   "source": [
    "a = \"I'm a data scientist\"\n",
    "print(a[1:20:3])"
   ]
  },
  {
   "cell_type": "code",
   "execution_count": 2,
   "id": "cd76b964",
   "metadata": {},
   "outputs": [],
   "source": [
    "### Skipping the string"
   ]
  },
  {
   "cell_type": "code",
   "execution_count": 3,
   "id": "5103673b",
   "metadata": {},
   "outputs": [],
   "source": [
    "#### String methods"
   ]
  },
  {
   "cell_type": "code",
   "execution_count": 4,
   "id": "535d740a",
   "metadata": {},
   "outputs": [
    {
     "data": {
      "text/plain": [
       "\"W'm a data scientist\""
      ]
     },
     "execution_count": 4,
     "metadata": {},
     "output_type": "execute_result"
    }
   ],
   "source": [
    "a = \"I'm a data scientist\"\n",
    "a.replace('I','W')"
   ]
  },
  {
   "cell_type": "code",
   "execution_count": 5,
   "id": "e651ac81",
   "metadata": {},
   "outputs": [
    {
     "data": {
      "text/plain": [
       "\"I'm a data scientist\""
      ]
     },
     "execution_count": 5,
     "metadata": {},
     "output_type": "execute_result"
    }
   ],
   "source": [
    "a.capitalize()"
   ]
  },
  {
   "cell_type": "code",
   "execution_count": 6,
   "id": "695318c5",
   "metadata": {},
   "outputs": [
    {
     "data": {
      "text/plain": [
       "'Data scientist'"
      ]
     },
     "execution_count": 6,
     "metadata": {},
     "output_type": "execute_result"
    }
   ],
   "source": [
    "a = \"data scientist\"\n",
    "a.capitalize()"
   ]
  },
  {
   "cell_type": "code",
   "execution_count": 8,
   "id": "28a5d70c",
   "metadata": {},
   "outputs": [
    {
     "data": {
      "text/plain": [
       "3"
      ]
     },
     "execution_count": 8,
     "metadata": {},
     "output_type": "execute_result"
    }
   ],
   "source": [
    "a.count('t')"
   ]
  },
  {
   "cell_type": "code",
   "execution_count": 9,
   "id": "98503d41",
   "metadata": {},
   "outputs": [
    {
     "data": {
      "text/plain": [
       "6"
      ]
     },
     "execution_count": 9,
     "metadata": {},
     "output_type": "execute_result"
    }
   ],
   "source": [
    "a.index('c')"
   ]
  },
  {
   "cell_type": "code",
   "execution_count": null,
   "id": "a5538be7",
   "metadata": {},
   "outputs": [],
   "source": []
  }
 ],
 "metadata": {
  "kernelspec": {
   "display_name": "Python 3 (ipykernel)",
   "language": "python",
   "name": "python3"
  },
  "language_info": {
   "codemirror_mode": {
    "name": "ipython",
    "version": 3
   },
   "file_extension": ".py",
   "mimetype": "text/x-python",
   "name": "python",
   "nbconvert_exporter": "python",
   "pygments_lexer": "ipython3",
   "version": "3.10.9"
  }
 },
 "nbformat": 4,
 "nbformat_minor": 5
}
