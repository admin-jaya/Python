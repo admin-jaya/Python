{
 "cells": [
  {
   "cell_type": "code",
   "execution_count": null,
   "id": "6bbf0305",
   "metadata": {},
   "outputs": [],
   "source": [
    "I'm jayalakshmi\n",
    "Im a Data scientist"
   ]
  },
  {
   "cell_type": "code",
   "execution_count": null,
   "id": "0ee759bb",
   "metadata": {},
   "outputs": [],
   "source": [
    "print(\"I'm a Data Scientist\")"
   ]
  },
  {
   "cell_type": "code",
   "execution_count": 1,
   "id": "d4ec3c04",
   "metadata": {},
   "outputs": [
    {
     "name": "stdout",
     "output_type": "stream",
     "text": [
      "I'm a Data Scientist\n"
     ]
    }
   ],
   "source": [
    "print(\"I'm a Data Scientist\")"
   ]
  },
  {
   "cell_type": "code",
   "execution_count": 1,
   "id": "760fe93d",
   "metadata": {},
   "outputs": [
    {
     "name": "stdout",
     "output_type": "stream",
     "text": [
      "16\n"
     ]
    }
   ],
   "source": [
    "age = 16\n",
    "print(age)"
   ]
  },
  {
   "cell_type": "code",
   "execution_count": 1,
   "id": "a7f3296f",
   "metadata": {},
   "outputs": [
    {
     "ename": "SyntaxError",
     "evalue": "invalid decimal literal (838007775.py, line 1)",
     "output_type": "error",
     "traceback": [
      "\u001b[1;36m  Cell \u001b[1;32mIn[1], line 1\u001b[1;36m\u001b[0m\n\u001b[1;33m    12 = 13b\u001b[0m\n\u001b[1;37m          ^\u001b[0m\n\u001b[1;31mSyntaxError\u001b[0m\u001b[1;31m:\u001b[0m invalid decimal literal\n"
     ]
    }
   ],
   "source": [
    "12 = 13b\n",
    "print(12)"
   ]
  },
  {
   "cell_type": "code",
   "execution_count": 2,
   "id": "82f3a79d",
   "metadata": {},
   "outputs": [
    {
     "ename": "SyntaxError",
     "evalue": "cannot assign to literal here. Maybe you meant '==' instead of '='? (1935454014.py, line 1)",
     "output_type": "error",
     "traceback": [
      "\u001b[1;36m  Cell \u001b[1;32mIn[2], line 1\u001b[1;36m\u001b[0m\n\u001b[1;33m    12 = 13\u001b[0m\n\u001b[1;37m    ^\u001b[0m\n\u001b[1;31mSyntaxError\u001b[0m\u001b[1;31m:\u001b[0m cannot assign to literal here. Maybe you meant '==' instead of '='?\n"
     ]
    }
   ],
   "source": [
    "12 = 13\n",
    "print(12)"
   ]
  },
  {
   "cell_type": "code",
   "execution_count": 3,
   "id": "a1395e67",
   "metadata": {},
   "outputs": [
    {
     "name": "stdout",
     "output_type": "stream",
     "text": [
      "150\n",
      "<class 'int'>\n"
     ]
    }
   ],
   "source": [
    "a =150  # assigning a value and printing the value and the type of the value.\n",
    "print(a)\n",
    "print(type(a))"
   ]
  },
  {
   "cell_type": "code",
   "execution_count": 4,
   "id": "8cd0f3b5",
   "metadata": {},
   "outputs": [
    {
     "ename": "SyntaxError",
     "evalue": "invalid syntax (4148695900.py, line 1)",
     "output_type": "error",
     "traceback": [
      "\u001b[1;36m  Cell \u001b[1;32mIn[4], line 1\u001b[1;36m\u001b[0m\n\u001b[1;33m    Variable name = 130\u001b[0m\n\u001b[1;37m             ^\u001b[0m\n\u001b[1;31mSyntaxError\u001b[0m\u001b[1;31m:\u001b[0m invalid syntax\n"
     ]
    }
   ],
   "source": [
    "Variable name = 130 # space between 2 varibale name doesnt work throw an error\n",
    "print(variable name)"
   ]
  },
  {
   "cell_type": "code",
   "execution_count": 5,
   "id": "66fa0742",
   "metadata": {},
   "outputs": [
    {
     "name": "stdout",
     "output_type": "stream",
     "text": [
      "130\n"
     ]
    }
   ],
   "source": [
    "Variable_Name = 130  # Assign the variable name with underscore\n",
    "print(Variable_Name)"
   ]
  },
  {
   "cell_type": "code",
   "execution_count": 7,
   "id": "7d8e4e59",
   "metadata": {},
   "outputs": [
    {
     "name": "stdout",
     "output_type": "stream",
     "text": [
      "my age is = 26\n"
     ]
    }
   ],
   "source": [
    "age = 26\n",
    "print(\"my age is =\",age) # to print the value with any sentences use , to concat the vale and other words."
   ]
  },
  {
   "cell_type": "code",
   "execution_count": 8,
   "id": "62aeb496",
   "metadata": {},
   "outputs": [
    {
     "ename": "TypeError",
     "evalue": "can only concatenate str (not \"int\") to str",
     "output_type": "error",
     "traceback": [
      "\u001b[1;31m---------------------------------------------------------------------------\u001b[0m",
      "\u001b[1;31mTypeError\u001b[0m                                 Traceback (most recent call last)",
      "Cell \u001b[1;32mIn[8], line 2\u001b[0m\n\u001b[0;32m      1\u001b[0m age \u001b[38;5;241m=\u001b[39m \u001b[38;5;241m26\u001b[39m\n\u001b[1;32m----> 2\u001b[0m \u001b[38;5;28mprint\u001b[39m(\u001b[38;5;124;43m\"\u001b[39;49m\u001b[38;5;124;43mmy age is =\u001b[39;49m\u001b[38;5;124;43m\"\u001b[39;49m\u001b[43m \u001b[49m\u001b[38;5;241;43m+\u001b[39;49m\u001b[43m \u001b[49m\u001b[43mage\u001b[49m)\n",
      "\u001b[1;31mTypeError\u001b[0m: can only concatenate str (not \"int\") to str"
     ]
    }
   ],
   "source": [
    "age = 26\n",
    "print(\"my age is =\" + age)"
   ]
  },
  {
   "cell_type": "code",
   "execution_count": 10,
   "id": "91868077",
   "metadata": {},
   "outputs": [
    {
     "ename": "TypeError",
     "evalue": "can only concatenate str (not \"int\") to str",
     "output_type": "error",
     "traceback": [
      "\u001b[1;31m---------------------------------------------------------------------------\u001b[0m",
      "\u001b[1;31mTypeError\u001b[0m                                 Traceback (most recent call last)",
      "Cell \u001b[1;32mIn[10], line 2\u001b[0m\n\u001b[0;32m      1\u001b[0m age \u001b[38;5;241m=\u001b[39m \u001b[38;5;241m26\u001b[39m\n\u001b[1;32m----> 2\u001b[0m \u001b[38;5;28mprint\u001b[39m(\u001b[38;5;124;43m\"\u001b[39;49m\u001b[38;5;124;43mmy age is =\u001b[39;49m\u001b[38;5;124;43m\"\u001b[39;49m\u001b[43m \u001b[49m\u001b[38;5;241;43m+\u001b[39;49m\u001b[43m \u001b[49m\u001b[38;5;28;43mint\u001b[39;49m\u001b[43m(\u001b[49m\u001b[43mage\u001b[49m\u001b[43m)\u001b[49m)\n",
      "\u001b[1;31mTypeError\u001b[0m: can only concatenate str (not \"int\") to str"
     ]
    }
   ],
   "source": [
    "age = 26\n",
    "print(\"my age is =\" + int(age))"
   ]
  },
  {
   "cell_type": "code",
   "execution_count": 11,
   "id": "01f75688",
   "metadata": {},
   "outputs": [
    {
     "name": "stdout",
     "output_type": "stream",
     "text": [
      "my age is =26\n"
     ]
    }
   ],
   "source": [
    "age = 26\n",
    "print(\"my age is =\" + str(age))"
   ]
  },
  {
   "cell_type": "markdown",
   "id": "dd452a37",
   "metadata": {},
   "source": [
    "### We can convert the data types"
   ]
  },
  {
   "cell_type": "code",
   "execution_count": 13,
   "id": "60ca0efc",
   "metadata": {},
   "outputs": [
    {
     "name": "stdout",
     "output_type": "stream",
     "text": [
      "150\n",
      "<class 'int'>\n",
      "150.0\n",
      "<class 'float'>\n"
     ]
    }
   ],
   "source": [
    "age = 12\n",
    "print(a)\n",
    "print(type(a))\n",
    "\n",
    "b = float(a)\n",
    "print(b)\n",
    "print(type(b))\n"
   ]
  },
  {
   "cell_type": "code",
   "execution_count": 15,
   "id": "c280bf2b",
   "metadata": {},
   "outputs": [
    {
     "name": "stdout",
     "output_type": "stream",
     "text": [
      "140\n",
      "140\n",
      "<class 'str'>\n"
     ]
    }
   ],
   "source": [
    "age = 140\n",
    "print(age)\n",
    "b = str(age)\n",
    "print(b)\n",
    "print(type(b))"
   ]
  },
  {
   "cell_type": "markdown",
   "id": "b6b9389b",
   "metadata": {},
   "source": [
    "#### Different ways to print the statements"
   ]
  },
  {
   "cell_type": "code",
   "execution_count": 17,
   "id": "54b6d467",
   "metadata": {},
   "outputs": [
    {
     "name": "stdout",
     "output_type": "stream",
     "text": [
      "My details 25 jaya 17-dec-1998\n"
     ]
    }
   ],
   "source": [
    "name = 'jaya'\n",
    "age = 25\n",
    "dob = '17-dec-1998'\n",
    "print(\"My details\",age,name,dob)"
   ]
  },
  {
   "cell_type": "code",
   "execution_count": 18,
   "id": "7ee0b813",
   "metadata": {},
   "outputs": [
    {
     "name": "stdout",
     "output_type": "stream",
     "text": [
      "My detailsjaya\n",
      "25\n",
      "17-dec-1998\n"
     ]
    }
   ],
   "source": [
    "name = 'jaya'\n",
    "age = 25\n",
    "dob = '17-dec-1998'\n",
    "print(\"My details\" + str(name))\n",
    "print(age)\n",
    "print(dob)"
   ]
  },
  {
   "cell_type": "code",
   "execution_count": 4,
   "id": "e3faf6ef",
   "metadata": {},
   "outputs": [
    {
     "name": "stdout",
     "output_type": "stream",
     "text": [
      "My name is jaya and Iam 25 years old and dob is 17-dec-1998\n"
     ]
    }
   ],
   "source": [
    "name = 'jaya'\n",
    "age = 25\n",
    "dob = '17-dec-1998'\n",
    "print(\"My name is %s and Iam %d years old and dob is %s\"%(name,age,dob))"
   ]
  },
  {
   "cell_type": "code",
   "execution_count": 3,
   "id": "1b9ad652",
   "metadata": {},
   "outputs": [
    {
     "name": "stdout",
     "output_type": "stream",
     "text": [
      "My name is jaya and I am 25 years old and dob is 17-dec-1998\n"
     ]
    }
   ],
   "source": [
    "print(f\"My name is {name} and I am {age} years old and dob is {dob}\")"
   ]
  },
  {
   "cell_type": "code",
   "execution_count": 4,
   "id": "ec9cc264",
   "metadata": {},
   "outputs": [
    {
     "name": "stdout",
     "output_type": "stream",
     "text": [
      "My name is jaya and I am 25 years old and dob is 17-dec-1998\n"
     ]
    }
   ],
   "source": [
    "name = 'jaya'\n",
    "age = 25\n",
    "dob = '17-dec-1998'\n",
    "print(\"My name is {} and I am {} years old and dob is {}\".format(name,age,dob))"
   ]
  },
  {
   "cell_type": "markdown",
   "id": "3076f19e",
   "metadata": {},
   "source": [
    "#### Python Operators"
   ]
  },
  {
   "cell_type": "code",
   "execution_count": null,
   "id": "0c6c679b",
   "metadata": {},
   "outputs": [],
   "source": [
    "+,-,*,/,%,//,pow"
   ]
  },
  {
   "cell_type": "code",
   "execution_count": 8,
   "id": "123abe07",
   "metadata": {},
   "outputs": [
    {
     "name": "stdout",
     "output_type": "stream",
     "text": [
      "20\n"
     ]
    }
   ],
   "source": [
    "a = 10\n",
    "b = 10\n",
    "print(a+b)"
   ]
  },
  {
   "cell_type": "code",
   "execution_count": 12,
   "id": "cfbf1412",
   "metadata": {},
   "outputs": [
    {
     "name": "stdout",
     "output_type": "stream",
     "text": [
      "100\n",
      "1.0\n",
      "0\n",
      "1\n"
     ]
    },
    {
     "data": {
      "text/plain": [
       "2"
      ]
     },
     "execution_count": 12,
     "metadata": {},
     "output_type": "execute_result"
    }
   ],
   "source": [
    "a = 10\n",
    "b = 10\n",
    "print(a*b)\n",
    "print(a/b)\n",
    "print(a%b)\n",
    "print(a//b)\n",
    "pow(3,3,5)"
   ]
  },
  {
   "cell_type": "code",
   "execution_count": null,
   "id": "9efc0a2e",
   "metadata": {},
   "outputs": [],
   "source": []
  }
 ],
 "metadata": {
  "kernelspec": {
   "display_name": "Python 3 (ipykernel)",
   "language": "python",
   "name": "python3"
  },
  "language_info": {
   "codemirror_mode": {
    "name": "ipython",
    "version": 3
   },
   "file_extension": ".py",
   "mimetype": "text/x-python",
   "name": "python",
   "nbconvert_exporter": "python",
   "pygments_lexer": "ipython3",
   "version": "3.10.9"
  },
  "widgets": {
   "application/vnd.jupyter.widget-state+json": {
    "state": {},
    "version_major": 2,
    "version_minor": 0
   }
  }
 },
 "nbformat": 4,
 "nbformat_minor": 5
}
