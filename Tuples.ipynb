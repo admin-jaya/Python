{
 "cells": [
  {
   "cell_type": "markdown",
   "id": "600440a1",
   "metadata": {},
   "source": [
    "### Tuples"
   ]
  },
  {
   "cell_type": "code",
   "execution_count": 2,
   "id": "40dce7c7",
   "metadata": {},
   "outputs": [],
   "source": [
    "# Tuples is one of the data structures in python\n",
    "# Tuple is immutable ** we cannot change the behaviour of the varialble\n",
    "# Tuples will be represented as ()"
   ]
  },
  {
   "cell_type": "code",
   "execution_count": 4,
   "id": "ea51607b",
   "metadata": {},
   "outputs": [
    {
     "name": "stdout",
     "output_type": "stream",
     "text": [
      "SQL\n"
     ]
    }
   ],
   "source": [
    "a = (10,34,23,7,'SQL')\n",
    "print(a[4])"
   ]
  },
  {
   "cell_type": "code",
   "execution_count": 6,
   "id": "83bdc030",
   "metadata": {},
   "outputs": [
    {
     "name": "stdout",
     "output_type": "stream",
     "text": [
      "(10, 34, 23, 7, 'SQL')\n"
     ]
    }
   ],
   "source": [
    "print(a)"
   ]
  },
  {
   "cell_type": "code",
   "execution_count": 8,
   "id": "f1ad530c",
   "metadata": {},
   "outputs": [
    {
     "name": "stdout",
     "output_type": "stream",
     "text": [
      "(10, 34, 12, 9, 'jaya')\n"
     ]
    }
   ],
   "source": [
    "# Adding, delete and replace is not possible in tuples.\n",
    "\n",
    "a = [10,34,12,9,'jaya']\n",
    "b = tuple(a)\n",
    "print(b)"
   ]
  },
  {
   "cell_type": "markdown",
   "id": "ae1d9938",
   "metadata": {},
   "source": [
    "#### Tuples Methods"
   ]
  },
  {
   "cell_type": "code",
   "execution_count": null,
   "id": "e064eda3",
   "metadata": {},
   "outputs": [],
   "source": [
    "## In tuples only 2 methods are used\n",
    "\n",
    "#count\n",
    "#index"
   ]
  },
  {
   "cell_type": "code",
   "execution_count": 10,
   "id": "d7e987a1",
   "metadata": {},
   "outputs": [
    {
     "data": {
      "text/plain": [
       "1"
      ]
     },
     "execution_count": 10,
     "metadata": {},
     "output_type": "execute_result"
    }
   ],
   "source": [
    "a = (10,34,23,7,'SQL')\n",
    "a.count(10)"
   ]
  },
  {
   "cell_type": "code",
   "execution_count": 12,
   "id": "bf7f6123",
   "metadata": {},
   "outputs": [
    {
     "data": {
      "text/plain": [
       "4"
      ]
     },
     "execution_count": 12,
     "metadata": {},
     "output_type": "execute_result"
    }
   ],
   "source": [
    "a.index('SQL') "
   ]
  }
 ],
 "metadata": {
  "kernelspec": {
   "display_name": "Python 3 (ipykernel)",
   "language": "python",
   "name": "python3"
  },
  "language_info": {
   "codemirror_mode": {
    "name": "ipython",
    "version": 3
   },
   "file_extension": ".py",
   "mimetype": "text/x-python",
   "name": "python",
   "nbconvert_exporter": "python",
   "pygments_lexer": "ipython3",
   "version": "3.10.9"
  }
 },
 "nbformat": 4,
 "nbformat_minor": 5
}
